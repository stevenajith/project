{
  "nbformat": 4,
  "nbformat_minor": 0,
  "metadata": {
    "colab": {
      "provenance": [],
      "authorship_tag": "ABX9TyNrdWYSkwJNxc0py89RZzfx",
      "include_colab_link": true
    },
    "kernelspec": {
      "name": "python3",
      "display_name": "Python 3"
    },
    "language_info": {
      "name": "python"
    }
  },
  "cells": [
    {
      "cell_type": "markdown",
      "metadata": {
        "id": "view-in-github",
        "colab_type": "text"
      },
      "source": [
        "<a href=\"https://colab.research.google.com/github/stevenajith/project/blob/main/Untitled0.ipynb\" target=\"_parent\"><img src=\"https://colab.research.google.com/assets/colab-badge.svg\" alt=\"Open In Colab\"/></a>"
      ]
    },
    {
      "cell_type": "code",
      "execution_count": null,
      "metadata": {
        "id": "AZ2yWLytoQ54"
      },
      "outputs": [],
      "source": [
        "# prompt: a program for calculator\n",
        "\n",
        "a = \"\" #@param {type:\"string\"}\n",
        "b = \"\" #@param {type:\"string\"}\n",
        "c = \"\" #@param [\"select operation\",\"add\",\"subtract\",\"multiply\",\"divide\"]\n",
        "def add(a,b):\n",
        "  return a+b\n",
        "def subtract(a,b):\n",
        "  return a-b\n",
        "def multiply(a,b):\n",
        "  return a*b\n",
        "def divide(a,b):\n",
        "  return a/b\n",
        "if c == \"add\":\n",
        "  print(add(int(a),int(b)))\n",
        "elif c == \"subtract\":\n",
        "  print(subtract(int(a),int(b)))\n",
        "elif c == \"multiply\":\n",
        "  print(multiply(int(a),int(b)))\n",
        "elif c == \"divide\":\n",
        "  print(divide(int(a),int(b)))\n",
        "else:\n",
        "  print(\"select a valid operation\")"
      ]
    }
  ]
}